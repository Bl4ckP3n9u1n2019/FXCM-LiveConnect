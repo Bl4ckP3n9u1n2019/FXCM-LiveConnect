{
 "cells": [
  {
   "cell_type": "markdown",
   "metadata": {},
   "source": [
    "### Importing Packages and Establishing Connection"
   ]
  },
  {
   "cell_type": "code",
   "execution_count": 1,
   "metadata": {},
   "outputs": [],
   "source": [
    "import fxcmpy\n",
    "import time\n",
    "import pandas as pd\n",
    "import json\n",
    "import datetime as dt\n",
    "import requests\n",
    "from socketIO_client import SocketIO"
   ]
  },
  {
   "cell_type": "code",
   "execution_count": 2,
   "metadata": {},
   "outputs": [],
   "source": [
    "TRADING_API_URL = 'https://api-demo.fxcm.com:443'\n",
    "WEBSOCKET_PORT = 443\n",
    "\n",
    "ACCESS_TOKEN = \"8ea6466c9b90a9716bd26056a699639309f25fc4\""
   ]
  },
  {
   "cell_type": "code",
   "execution_count": 3,
   "metadata": {},
   "outputs": [
    {
     "name": "stdout",
     "output_type": "stream",
     "text": [
      "Bearer WJoUq4egg_TIp3eVABHt8ea6466c9b90a9716bd26056a699639309f25fc4\n"
     ]
    }
   ],
   "source": [
    "def on_connect():\n",
    "    print('Websocket Connected: ' + socketIO._engineIO_session.id)\n",
    "    \n",
    "def on_close():\n",
    "    print('Websocket Closed.')\n",
    "    \n",
    "socketIO = SocketIO(TRADING_API_URL, WEBSOCKET_PORT, params={'access_token': ACCESS_TOKEN})\n",
    "\n",
    "socketIO.on('connect', on_connect)\n",
    "socketIO.on('disconnect', on_close)\n",
    "\n",
    "bearer_access_token = \"Bearer \" + socketIO._engineIO_session.id + ACCESS_TOKEN\n",
    "\n",
    "print(bearer_access_token)"
   ]
  },
  {
   "cell_type": "markdown",
   "metadata": {},
   "source": [
    "### Streaming Real-Time Prices"
   ]
  },
  {
   "cell_type": "code",
   "execution_count": 9,
   "metadata": {},
   "outputs": [
    {
     "name": "stdout",
     "output_type": "stream",
     "text": [
      "<Response [200]>\n",
      "{'response': {'executed': True, 'error': ''}, 'pairs': [{'Updated': 1558969604297, 'Rates': [1.1191, 1.11922, 1.12158, 1.11864, 1.1191, 1.11922], 'Symbol': 'EUR/USD'}]}\n"
     ]
    }
   ],
   "source": [
    "method = '/subscribe'\n",
    "\n",
    "sub_response = requests.post(TRADING_API_URL + method,\n",
    "                             headers = {\n",
    "                               'User-Agent': 'requests',\n",
    "                               'Authorization': bearer_access_token,\n",
    "                               'Accept': 'application/json',\n",
    "                               'Content-Type': 'application/x-www-form-urlencoded'\n",
    "                           },\n",
    "                           data = {'pairs': 'EUR/USD'\n",
    "                                  })\n",
    "\n",
    "print(sub_response)\n",
    "print(sub_response.json())"
   ]
  },
  {
   "cell_type": "markdown",
   "metadata": {},
   "source": [
    "### Update Events on New Tick Release"
   ]
  },
  {
   "cell_type": "code",
   "execution_count": null,
   "metadata": {},
   "outputs": [],
   "source": [
    "# Get minimum data points first, create CSV and continue to add new tick data to CSV"
   ]
  },
  {
   "cell_type": "code",
   "execution_count": null,
   "metadata": {},
   "outputs": [
    {
     "name": "stdout",
     "output_type": "stream",
     "text": [
      "Websocket Connected: WJoUq4egg_TIp3eVABHt\n",
      "{'Updated': 1558969614526, 'Rates': [1.1191, 1.11923, 1.1215799999999998, 1.11864], 'Symbol': 'EUR/USD'}\n",
      "{'Updated': 1558969615109, 'Rates': [1.1191, 1.1192199999999999, 1.1215799999999998, 1.11864], 'Symbol': 'EUR/USD'}\n",
      "{'Updated': 1558969615906, 'Rates': [1.1191, 1.11923, 1.1215799999999998, 1.11864], 'Symbol': 'EUR/USD'}\n",
      "{'Updated': 1558969624500, 'Rates': [1.1191, 1.1192199999999999, 1.1215799999999998, 1.11864], 'Symbol': 'EUR/USD'}\n",
      "{'Updated': 1558969636775, 'Rates': [1.1191, 1.11923, 1.1215799999999998, 1.11864], 'Symbol': 'EUR/USD'}\n",
      "{'Updated': 1558969648826, 'Rates': [1.1191, 1.1192199999999999, 1.1215799999999998, 1.11864], 'Symbol': 'EUR/USD'}\n",
      "{'Updated': 1558969658292, 'Rates': [1.1191, 1.11923, 1.1215799999999998, 1.11864], 'Symbol': 'EUR/USD'}\n",
      "{'Updated': 1558969674200, 'Rates': [1.11911, 1.1192399999999998, 1.1215799999999998, 1.11864], 'Symbol': 'EUR/USD'}\n",
      "{'Updated': 1558969675396, 'Rates': [1.11911, 1.11923, 1.1215799999999998, 1.11864], 'Symbol': 'EUR/USD'}\n",
      "{'Updated': 1558969675876, 'Rates': [1.11911, 1.1192199999999999, 1.1215799999999998, 1.11864], 'Symbol': 'EUR/USD'}\n",
      "{'Updated': 1558969676739, 'Rates': [1.11911, 1.1192399999999998, 1.1215799999999998, 1.11864], 'Symbol': 'EUR/USD'}\n",
      "{'Updated': 1558969678346, 'Rates': [1.11911, 1.1192399999999998, 1.1215799999999998, 1.11864], 'Symbol': 'EUR/USD'}\n",
      "{'Updated': 1558969678785, 'Rates': [1.11911, 1.11923, 1.1215799999999998, 1.11864], 'Symbol': 'EUR/USD'}\n",
      "{'Updated': 1558969687589, 'Rates': [1.11911, 1.1192399999999998, 1.1215799999999998, 1.11864], 'Symbol': 'EUR/USD'}\n",
      "{'Updated': 1558969688354, 'Rates': [1.1191200000000001, 1.1192399999999998, 1.1215799999999998, 1.11864], 'Symbol': 'EUR/USD'}\n",
      "{'Updated': 1558969691367, 'Rates': [1.1191200000000001, 1.1192399999999998, 1.1215799999999998, 1.11864], 'Symbol': 'EUR/USD'}\n",
      "{'Updated': 1558969691941, 'Rates': [1.11911, 1.1192399999999998, 1.1215799999999998, 1.11864], 'Symbol': 'EUR/USD'}\n",
      "{'Updated': 1558969692283, 'Rates': [1.11911, 1.1192399999999998, 1.1215799999999998, 1.11864], 'Symbol': 'EUR/USD'}\n",
      "{'Updated': 1558969693291, 'Rates': [1.11911, 1.11923, 1.1215799999999998, 1.11864], 'Symbol': 'EUR/USD'}\n",
      "{'Updated': 1558969693903, 'Rates': [1.11911, 1.11923, 1.1215799999999998, 1.11864], 'Symbol': 'EUR/USD'}\n",
      "{'Updated': 1558969698406, 'Rates': [1.11911, 1.1192399999999998, 1.1215799999999998, 1.11864], 'Symbol': 'EUR/USD'}\n",
      "{'Updated': 1558969711324, 'Rates': [1.1191200000000001, 1.1192399999999998, 1.1215799999999998, 1.11864], 'Symbol': 'EUR/USD'}\n",
      "{'Updated': 1558969734291, 'Rates': [1.11915, 1.11927, 1.1215799999999998, 1.11864], 'Symbol': 'EUR/USD'}\n",
      "{'Updated': 1558969736219, 'Rates': [1.11915, 1.1192799999999998, 1.1215799999999998, 1.11864], 'Symbol': 'EUR/USD'}\n",
      "{'Updated': 1558969743307, 'Rates': [1.11916, 1.1192799999999998, 1.1215799999999998, 1.11864], 'Symbol': 'EUR/USD'}\n",
      "{'Updated': 1558969745049, 'Rates': [1.11916, 1.1192799999999998, 1.1215799999999998, 1.11864], 'Symbol': 'EUR/USD'}\n",
      "{'Updated': 1558969745777, 'Rates': [1.11916, 1.1192799999999998, 1.1215799999999998, 1.11864], 'Symbol': 'EUR/USD'}\n",
      "{'Updated': 1558969746270, 'Rates': [1.11916, 1.1192799999999998, 1.1215799999999998, 1.11864], 'Symbol': 'EUR/USD'}\n",
      "{'Updated': 1558969753751, 'Rates': [1.11916, 1.1192799999999998, 1.1215799999999998, 1.11864], 'Symbol': 'EUR/USD'}\n",
      "{'Updated': 1558969754221, 'Rates': [1.11916, 1.1192799999999998, 1.1215799999999998, 1.11864], 'Symbol': 'EUR/USD'}\n",
      "{'Updated': 1558969755841, 'Rates': [1.11915, 1.11927, 1.1215799999999998, 1.11864], 'Symbol': 'EUR/USD'}\n",
      "{'Updated': 1558969759733, 'Rates': [1.11911, 1.11923, 1.1215799999999998, 1.11864], 'Symbol': 'EUR/USD'}\n"
     ]
    }
   ],
   "source": [
    "def on_price_update(msg):\n",
    "    response = json.loads(msg)\n",
    "    print(response)\n",
    "    \n",
    "if sub_response.status_code == 200:\n",
    "    socketIO.on('EUR/USD', on_price_update)\n",
    "    socketIO.wait()\n"
   ]
  },
  {
   "cell_type": "code",
   "execution_count": null,
   "metadata": {},
   "outputs": [],
   "source": [
    "# clean data, get date/time, open, close, high, low"
   ]
  },
  {
   "cell_type": "code",
   "execution_count": null,
   "metadata": {},
   "outputs": [],
   "source": [
    "# Use real-time data to predict"
   ]
  },
  {
   "cell_type": "code",
   "execution_count": null,
   "metadata": {},
   "outputs": [],
   "source": [
    "# Maybe place loop or until time has passed before stop and restart"
   ]
  }
 ],
 "metadata": {
  "kernelspec": {
   "display_name": "Python 3",
   "language": "python",
   "name": "python3"
  },
  "language_info": {
   "codemirror_mode": {
    "name": "ipython",
    "version": 3
   },
   "file_extension": ".py",
   "mimetype": "text/x-python",
   "name": "python",
   "nbconvert_exporter": "python",
   "pygments_lexer": "ipython3",
   "version": "3.7.3"
  }
 },
 "nbformat": 4,
 "nbformat_minor": 2
}
